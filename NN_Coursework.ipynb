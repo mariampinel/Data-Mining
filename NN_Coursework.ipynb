{
  "nbformat": 4,
  "nbformat_minor": 0,
  "metadata": {
    "colab": {
      "provenance": [],
      "include_colab_link": true
    },
    "kernelspec": {
      "name": "python3",
      "display_name": "Python 3"
    },
    "language_info": {
      "name": "python"
    }
  },
  "cells": [
    {
      "cell_type": "markdown",
      "metadata": {
        "id": "view-in-github",
        "colab_type": "text"
      },
      "source": [
        "<a href=\"https://colab.research.google.com/github/mariampinel/Data-Mining/blob/main/NN_Coursework.ipynb\" target=\"_parent\"><img src=\"https://colab.research.google.com/assets/colab-badge.svg\" alt=\"Open In Colab\"/></a>"
      ]
    },
    {
      "cell_type": "code",
      "execution_count": 3,
      "metadata": {
        "id": "lpi8f-ocRNNt"
      },
      "outputs": [],
      "source": [
        "%matplotlib inline\n",
        "import matplotlib.pyplot as plt\n",
        "import torch\n",
        "import torchvision\n"
      ]
    },
    {
      "cell_type": "markdown",
      "source": [
        "## Notes\n",
        "- Fix dimensions\n",
        "- Task 2"
      ],
      "metadata": {
        "id": "CT2EPsxtVEEi"
      }
    },
    {
      "cell_type": "markdown",
      "source": [
        "# Task 1: Create a DataLoader for the training dataset and a DataLoader for the testing dataset, which should enable generating batches of examples"
      ],
      "metadata": {
        "id": "y1Cz7ZZ0RZhu"
      }
    },
    {
      "cell_type": "code",
      "source": [
        "# Load data\n",
        "def load_data_cifar10(batch_size, resize=None):\n",
        "    \"\"\"Download the CIFAR-10 dataset and then load it into memory.\"\"\"\n",
        "    transform_list = [torchvision.transforms.ToTensor()]\n",
        "    if resize:\n",
        "        transform_list.insert(0, torchvision.transforms.Resize(resize))\n",
        "    transform = torchvision.transforms.Compose(transform_list)\n",
        "    cifar10_train = torchvision.datasets.CIFAR10(\n",
        "        root=\"../data\", train=True, transform=transform, download=True)\n",
        "    cifar10_test = torchvision.datasets.CIFAR10(\n",
        "        root=\"../data\", train=False, transform=transform, download=True)\n",
        "    train_loader = torch.utils.data.DataLoader(\n",
        "        cifar10_train, batch_size=batch_size, shuffle=True, num_workers=2)\n",
        "    test_loader = torch.utils.data.DataLoader(\n",
        "        cifar10_test, batch_size=batch_size, shuffle=False, num_workers=2)\n",
        "\n",
        "    return train_loader, test_loader\n"
      ],
      "metadata": {
        "id": "gvChLr3JRon4"
      },
      "execution_count": 6,
      "outputs": []
    },
    {
      "cell_type": "code",
      "source": [
        "# Create train and test split\n",
        "batch_size = 256 # Define the batch size\n",
        "# Start with 256. If memory usage is low, try increasing to 512 or 1024 for faster training. If memory runs out, reduce to 128 or 64.\n",
        "train_iter, test_iter = load_data_cifar10(batch_size) # `train_iter` and `test_iter` are `DataLoader` objects."
      ],
      "metadata": {
        "colab": {
          "base_uri": "https://localhost:8080/"
        },
        "id": "RKwPjpYkRzKF",
        "outputId": "8258557c-1290-4b7e-be33-fa6333d0fe5a"
      },
      "execution_count": 7,
      "outputs": [
        {
          "output_type": "stream",
          "name": "stderr",
          "text": [
            "100%|██████████| 170M/170M [00:03<00:00, 47.3MB/s]\n"
          ]
        }
      ]
    },
    {
      "cell_type": "code",
      "source": [
        "# Create vars X and y\n",
        "X, y = next(iter(train_iter)) # Requests the first training batch\n",
        "print(X.size()) # 256 images per batch. Each image is represented by a 1 x 32 x 32 tensor (number of channels x height x width). The images are color, so there are 3 channels.\n",
        "print(y.size()) # 256 targets. Each target is a number between 0 and 9. The classification problem has 10 clases."
      ],
      "metadata": {
        "colab": {
          "base_uri": "https://localhost:8080/"
        },
        "id": "TYdtNQ-WR9gK",
        "outputId": "bd825d33-0f51-4ea5-e439-b23c4ca524f5"
      },
      "execution_count": 8,
      "outputs": [
        {
          "output_type": "stream",
          "name": "stdout",
          "text": [
            "torch.Size([256, 3, 32, 32])\n",
            "torch.Size([256])\n"
          ]
        }
      ]
    },
    {
      "cell_type": "code",
      "source": [
        "# Visualize data\n",
        "from google.colab.patches import cv2_imshow\n",
        "\n",
        "class_labels = ['airplane', 'automobile', 'bird', 'cat', 'deer', 'dog', 'frog', 'horse', 'ship', 'truck'] # Pre-defined class labels\n",
        "\n",
        "for i in range(8):\n",
        "    print(f'\\nImage {i} ({class_labels[int(y[i])]}):\\n') # Prints the index `i` and the label associated to the `i`-th image.\n",
        "    cv2_imshow(X[i].numpy().transpose(1, 2, 0) * 255) # Converts and displays the `i`-th image in the batch."
      ],
      "metadata": {
        "colab": {
          "base_uri": "https://localhost:8080/",
          "height": 690
        },
        "id": "idfDWK5OR_bo",
        "outputId": "5fcd78d3-357f-4186-f146-5de6233251f4"
      },
      "execution_count": 10,
      "outputs": [
        {
          "output_type": "stream",
          "name": "stdout",
          "text": [
            "\n",
            "Image 0 (airplane):\n",
            "\n"
          ]
        },
        {
          "output_type": "display_data",
          "data": {
            "text/plain": [
              "<PIL.Image.Image image mode=RGB size=32x32>"
            ],
            "image/png": "[encoded data removed]",
            "image/jpeg": "[encoded data removed]"
          },
          "metadata": {}
        },
        {
          "output_type": "stream",
          "name": "stdout",
          "text": [
            "\n",
            "Image 1 (dog):\n",
            "\n"
          ]
        },
        {
          "output_type": "display_data",
          "data": {
            "text/plain": [
              "<PIL.Image.Image image mode=RGB size=32x32>"
            ],
            "image/png": "[encoded data removed]",
            "image/jpeg": "[encoded data removed]"
          },
          "metadata": {}
        },
        {
          "output_type": "stream",
          "name": "stdout",
          "text": [
            "\n",
            "Image 2 (ship):\n",
            "\n"
          ]
        },
        {
          "output_type": "display_data",
          "data": {
            "text/plain": [
              "<PIL.Image.Image image mode=RGB size=32x32>"
            ],
            "image/png": "[encoded data removed]",
            "image/jpeg": "[encoded data removed]"
          },
          "metadata": {}
        },
        {
          "output_type": "stream",
          "name": "stdout",
          "text": [
            "\n",
            "Image 3 (horse):\n",
            "\n"
          ]
        },
        {
          "output_type": "display_data",
          "data": {
            "text/plain": [
              "<PIL.Image.Image image mode=RGB size=32x32>"
            ],
            "image/png": "[encoded data removed]",
            "image/jpeg": "[encoded data removed]"
          },
          "metadata": {}
        },
        {
          "output_type": "stream",
          "name": "stdout",
          "text": [
            "\n",
            "Image 4 (cat):\n",
            "\n"
          ]
        },
        {
          "output_type": "display_data",
          "data": {
            "text/plain": [
              "<PIL.Image.Image image mode=RGB size=32x32>"
            ],
            "image/png": "[encoded data removed]",
            "image/jpeg": "[encoded data removed]"
          },
          "metadata": {}
        },
        {
          "output_type": "stream",
          "name": "stdout",
          "text": [
            "\n",
            "Image 5 (bird):\n",
            "\n"
          ]
        },
        {
          "output_type": "display_data",
          "data": {
            "text/plain": [
              "<PIL.Image.Image image mode=RGB size=32x32>"
            ],
            "image/png": "[encoded data removed]",
            "image/jpeg": "[encoded data removed]"
          },
          "metadata": {}
        },
        {
          "output_type": "stream",
          "name": "stdout",
          "text": [
            "\n",
            "Image 6 (automobile):\n",
            "\n"
          ]
        },
        {
          "output_type": "display_data",
          "data": {
            "text/plain": [
              "<PIL.Image.Image image mode=RGB size=32x32>"
            ],
            "image/png": "[encoded data removed]",
            "image/jpeg": "[encoded data removed]"
          },
          "metadata": {}
        },
        {
          "output_type": "stream",
          "name": "stdout",
          "text": [
            "\n",
            "Image 7 (airplane):\n",
            "\n"
          ]
        },
        {
          "output_type": "display_data",
          "data": {
            "text/plain": [
              "<PIL.Image.Image image mode=RGB size=32x32>"
            ],
            "image/png": "[encoded data removed]",
            "image/jpeg": "[encoded data removed]"
          },
          "metadata": {}
        }
      ]
    },
    {
      "cell_type": "markdown",
      "source": [
        "# Task 2: Implement the neural network architecture as described in this section to classify images from the CIFAR-10 dataset.\n",
        "\n",
        "The architecture is composed of a sequence of intermediate blocks B1, B2, . . . , BK that are followed by an output block O, as shown in Figure 2. These blocks are detailed in the following subsections."
      ],
      "metadata": {
        "id": "XCblPKJ4SBtm"
      }
    },
    {
      "cell_type": "code",
      "source": [],
      "metadata": {
        "id": "xz0aWZM3puYr"
      },
      "execution_count": null,
      "outputs": []
    },
    {
      "cell_type": "code",
      "source": [
        "# References\n",
        "Learning Multiple Layers of Features from Tiny Images, Alex Krizhevsky, 2009."
      ],
      "metadata": {
        "id": "uKy_2mT1SD2X"
      },
      "execution_count": null,
      "outputs": []
    }
  ]
}